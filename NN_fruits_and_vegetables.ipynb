{
  "nbformat": 4,
  "nbformat_minor": 0,
  "metadata": {
    "colab": {
      "name": "Untitled1.ipynb",
      "provenance": [],
      "authorship_tag": "ABX9TyMcuWRg3ip4Hjsl8KzadUrh",
      "include_colab_link": true
    },
    "kernelspec": {
      "name": "python3",
      "display_name": "Python 3"
    },
    "accelerator": "GPU"
  },
  "cells": [
    {
      "cell_type": "markdown",
      "metadata": {
        "id": "view-in-github",
        "colab_type": "text"
      },
      "source": [
        "<a href=\"https://colab.research.google.com/github/MihailMV/Fruits-and-vegetables/blob/master/NN_fruits_and_vegetables.ipynb\" target=\"_parent\"><img src=\"https://colab.research.google.com/assets/colab-badge.svg\" alt=\"Open In Colab\"/></a>"
      ]
    },
    {
      "cell_type": "code",
      "metadata": {
        "id": "aWkEI_qaGtOE",
        "colab_type": "code",
        "outputId": "05f18f80-4eea-4ad2-fb0c-5d6b731f2d67",
        "colab": {
          "base_uri": "https://localhost:8080/",
          "height": 122
        }
      },
      "source": [
        "from google.colab import drive\n",
        "drive.mount('/content/drive')"
      ],
      "execution_count": 1,
      "outputs": [
        {
          "output_type": "stream",
          "text": [
            "Go to this URL in a browser: https://accounts.google.com/o/oauth2/auth?client_id=947318989803-6bn6qk8qdgf4n4g3pfee6491hc0brc4i.apps.googleusercontent.com&redirect_uri=urn%3aietf%3awg%3aoauth%3a2.0%3aoob&response_type=code&scope=email%20https%3a%2f%2fwww.googleapis.com%2fauth%2fdocs.test%20https%3a%2f%2fwww.googleapis.com%2fauth%2fdrive%20https%3a%2f%2fwww.googleapis.com%2fauth%2fdrive.photos.readonly%20https%3a%2f%2fwww.googleapis.com%2fauth%2fpeopleapi.readonly\n",
            "\n",
            "Enter your authorization code:\n",
            "··········\n",
            "Mounted at /content/drive\n"
          ],
          "name": "stdout"
        }
      ]
    },
    {
      "cell_type": "code",
      "metadata": {
        "id": "SQn7XeegG9u_",
        "colab_type": "code",
        "colab": {}
      },
      "source": [
        "import os\n",
        "import zipfile\n",
        "import shutil\n",
        "import numpy as np\n",
        "from tqdm import tqdm"
      ],
      "execution_count": 0,
      "outputs": []
    },
    {
      "cell_type": "code",
      "metadata": {
        "id": "auVcEjSN4Hn2",
        "colab_type": "code",
        "colab": {}
      },
      "source": [
        "DIR = 'fruits_vegetables'\n",
        "DIR_TRAIN = 'TRAIN'\n",
        "DIR_VAL = 'VAL'\n",
        "DIR_TEST = 'TEST'\n",
        "IMG_SIZE = (224, 224)\n",
        "MEAN = np.array([0.485, 0.456, 0.406])\n",
        "STD = np.array([0.229, 0.224, 0.225])\n",
        "BATCH_SIZE = 50\n",
        "\n",
        "os.environ['KAGGLE_CONFIG_DIR'] = \"/content/drive/My Drive/Colab Notebooks/kaggle/\" "
      ],
      "execution_count": 0,
      "outputs": []
    },
    {
      "cell_type": "code",
      "metadata": {
        "id": "5-MnUJNFGuBa",
        "colab_type": "code",
        "outputId": "77568dce-240c-46a9-def6-5353d2ce1488",
        "colab": {
          "base_uri": "https://localhost:8080/",
          "height": 68
        }
      },
      "source": [
        "!kaggle datasets download -d balalexv/fruits-vegetables-photos\n",
        "with zipfile.ZipFile('/content/fruits-vegetables-photos.zip', 'r') as zip_obj:\n",
        "   zip_obj.extractall('/content/')\n",
        "!rm '/content/fruits-vegetables-photos.zip'"
      ],
      "execution_count": 4,
      "outputs": [
        {
          "output_type": "stream",
          "text": [
            "Downloading fruits-vegetables-photos.zip to /content\n",
            " 99% 1.78G/1.80G [00:20<00:00, 99.8MB/s]\n",
            "100% 1.80G/1.80G [00:20<00:00, 95.5MB/s]\n"
          ],
          "name": "stdout"
        }
      ]
    },
    {
      "cell_type": "code",
      "metadata": {
        "id": "7wXQojMFH25a",
        "colab_type": "code",
        "colab": {}
      },
      "source": [
        "os.makedirs(os.path.join(DIR, DIR_VAL), exist_ok=True)\n",
        "\n",
        "for class_name in os.listdir(os.path.join(DIR,DIR_TRAIN)):\n",
        "  os.makedirs(os.path.join(DIR, DIR_VAL, class_name), exist_ok=True)\n",
        "  for i, f in enumerate(os.listdir(os.path.join(DIR,DIR_TRAIN, class_name))):\n",
        "    if (i % 5 == 0):\n",
        "      shutil.move(os.path.join(DIR,DIR_TRAIN, class_name,f), os.path.join(DIR,DIR_VAL,class_name,f))"
      ],
      "execution_count": 0,
      "outputs": []
    },
    {
      "cell_type": "code",
      "metadata": {
        "id": "XABWjg9orrVE",
        "colab_type": "code",
        "colab": {}
      },
      "source": [
        "from torchvision import transforms, models\n",
        "from torchvision.datasets import ImageFolder\n",
        "import torchvision\n",
        "import torch\n",
        "import matplotlib.pyplot as plt"
      ],
      "execution_count": 0,
      "outputs": []
    },
    {
      "cell_type": "code",
      "metadata": {
        "id": "MSPFVsd3sAes",
        "colab_type": "code",
        "colab": {}
      },
      "source": [
        "train_transforms = transforms.Compose([\n",
        "    transforms.Resize(IMG_SIZE),\n",
        "    #transforms.RandomResizedCrop(224),\n",
        "    transforms.RandomHorizontalFlip(),\n",
        "    transforms.RandomVerticalFlip(),\n",
        "    transforms.ToTensor(),\n",
        "    transforms.Normalize(MEAN, STD)\n",
        "])\n",
        "\n",
        "val_transforms = transforms.Compose([\n",
        "    transforms.Resize(IMG_SIZE),\n",
        "    transforms.ToTensor(),\n",
        "    transforms.Normalize(MEAN, STD)\n",
        "])\n",
        "\n",
        "train_dataset = torchvision.datasets.ImageFolder(os.path.join(DIR,DIR_TRAIN), train_transforms)\n",
        "val_dataset = torchvision.datasets.ImageFolder(os.path.join(DIR,DIR_VAL), val_transforms)\n"
      ],
      "execution_count": 0,
      "outputs": []
    },
    {
      "cell_type": "code",
      "metadata": {
        "id": "-811_BpysAhd",
        "colab_type": "code",
        "colab": {}
      },
      "source": [
        "train_dataloader = torch.utils.data.DataLoader(\n",
        "    train_dataset, batch_size=BATCH_SIZE, shuffle=True, num_workers=8)\n",
        "val_dataloader = torch.utils.data.DataLoader(\n",
        "    val_dataset, batch_size=BATCH_SIZE, shuffle=False, num_workers=8)\n"
      ],
      "execution_count": 0,
      "outputs": []
    },
    {
      "cell_type": "code",
      "metadata": {
        "id": "Gn-g_V99Iwc6",
        "colab_type": "code",
        "colab": {}
      },
      "source": [
        "#for inputs, labels in val_dataloader:\n",
        "#  inputs_t = inputs\n",
        "\n",
        "\n"
      ],
      "execution_count": 0,
      "outputs": []
    },
    {
      "cell_type": "code",
      "metadata": {
        "id": "fsTnUalIsAkz",
        "colab_type": "code",
        "colab": {}
      },
      "source": [
        "def show_input(input_tensor, title=''):\n",
        "    image = input_tensor.permute(1, 2, 0).numpy()\n",
        "    image = STD * image + MEAN\n",
        "    plt.imshow(image.clip(0, 1))\n",
        "    plt.title(title)\n",
        "    plt.show()\n",
        "    plt.pause(0.001)\n"
      ],
      "execution_count": 0,
      "outputs": []
    },
    {
      "cell_type": "code",
      "metadata": {
        "id": "q8bkdIhKKcET",
        "colab_type": "code",
        "colab": {}
      },
      "source": [
        "def train_model(model, loss, optimizer, scheduler, num_epochs):\n",
        "  hist_loss_train = []\n",
        "  hist_acc_train = []\n",
        "  hist_loss_val = []\n",
        "  hist_acc_val = []\n",
        "  for epoch in range(num_epochs):\n",
        "    # Train\n",
        "    running_loss = 0.\n",
        "    running_acc = 0.\n",
        "    model.train()\n",
        "    #for inputs, labels in tqdm(train_dataloader):\n",
        "    for inputs, labels in train_dataloader:\n",
        "      inputs = inputs.to(device)\n",
        "      labels = labels.to(device)\n",
        "      optimizer.zero_grad()\n",
        "      with torch.set_grad_enabled(True):\n",
        "        preds = model(inputs)\n",
        "        loss_value = loss(preds, labels)\n",
        "        preds_class = preds.argmax(dim=1)\n",
        "        loss_value.backward()\n",
        "        optimizer.step()\n",
        "        running_loss += loss_value.item()\n",
        "        running_acc += (preds_class == labels.data).float().mean()\n",
        "        loss_train = running_loss / len(train_dataloader)\n",
        "        acc_train = running_acc / len(train_dataloader)\n",
        "    scheduler.step(loss_train)\n",
        "    # Val\n",
        "    running_loss = 0.\n",
        "    running_acc = 0.\n",
        "    model.eval()\n",
        "    for inputs, labels in val_dataloader:\n",
        "      inputs = inputs.to(device)\n",
        "      labels = labels.to(device)\n",
        "      with torch.set_grad_enabled(False):\n",
        "        preds = model(inputs)\n",
        "        loss_value = loss(preds, labels)\n",
        "        preds_class = preds.argmax(dim=1)\n",
        "        running_loss += loss_value.item()\n",
        "        running_acc += (preds_class == labels.data).float().mean()\n",
        "        loss_val = running_loss / len(val_dataloader)\n",
        "        acc_val = running_acc / len(val_dataloader)\n",
        "    \n",
        "    print(f'Epoch {epoch}/{num_epochs - 1}: Train: Loss: {loss_train:.4f}, Acc: {acc_train:.4f}   Val: Loss: {loss_val:.4f}, Acc: {acc_val:.4f}', flush=True)\n",
        "    hist_loss_train.append(loss_train)\n",
        "    hist_acc_train.append(acc_train.item())\n",
        "    hist_loss_val.append(loss_val)\n",
        "    hist_acc_val.append(acc_val.item())\n",
        "\n",
        "  return model, [hist_loss_train,hist_acc_train,hist_loss_val,hist_acc_val]"
      ],
      "execution_count": 0,
      "outputs": []
    },
    {
      "cell_type": "code",
      "metadata": {
        "id": "CvX6PHhiqliA",
        "colab_type": "code",
        "colab": {}
      },
      "source": [
        "cl_cnt = {}\n",
        "for class_name in os.listdir(os.path.join(DIR,DIR_TRAIN)):\n",
        "  cl_cnt[class_name] = 0\n",
        "  for i, f in enumerate(os.listdir(os.path.join(DIR,DIR_TRAIN, class_name))):\n",
        "    cl_cnt[class_name] += 1"
      ],
      "execution_count": 0,
      "outputs": []
    },
    {
      "cell_type": "code",
      "metadata": {
        "id": "7S6wWUgJ9mC6",
        "colab_type": "code",
        "colab": {}
      },
      "source": [
        "model = models.resnet50(pretrained=True)\n",
        "\n",
        "for param in model.parameters():\n",
        "    param.requires_grad = False\n",
        "\n",
        "model.fc = torch.nn.Linear(model.fc.in_features, len(train_dataset.classes))\n",
        "\n",
        "device = torch.device(\"cuda:0\" if torch.cuda.is_available() else \"cpu\")\n",
        "model = model.to(device)\n",
        "\n",
        "cl_weight = max([cnt for cnt in cl_cnt.values()]) / torch.tensor([cl_cnt[cl] for cl in train_dataset.classes], dtype=float, device=device)\n",
        "\n",
        "loss = torch.nn.CrossEntropyLoss(cl_weight.float())\n",
        "optimizer = torch.optim.Adam(model.parameters(), lr=1.0e-2, weight_decay = 0.05) #, amsgrad=True)\n",
        "\n",
        "scheduler = torch.optim.lr_scheduler.ReduceLROnPlateau(optimizer, factor = 0.3, patience=3, threshold= 0.001, verbose=True)"
      ],
      "execution_count": 0,
      "outputs": []
    },
    {
      "cell_type": "code",
      "metadata": {
        "id": "rJeCVf5NvWOt",
        "colab_type": "code",
        "colab": {}
      },
      "source": [
        "model.forward"
      ],
      "execution_count": 0,
      "outputs": []
    },
    {
      "cell_type": "code",
      "metadata": {
        "id": "fJmD4_A29mAb",
        "colab_type": "code",
        "outputId": "aded95e6-dfee-4239-f087-39218db3ce4b",
        "colab": {
          "base_uri": "https://localhost:8080/",
          "height": 459
        }
      },
      "source": [
        "model, hist = train_model(model, loss, optimizer, scheduler, num_epochs=22);"
      ],
      "execution_count": 82,
      "outputs": [
        {
          "output_type": "stream",
          "text": [
            "Epoch 0/21: Train: Loss: 1.7833, Acc: 0.6655   Val: Loss: 0.3237, Acc: 0.9027\n",
            "Epoch 1/21: Train: Loss: 0.4202, Acc: 0.8728   Val: Loss: 0.4111, Acc: 0.8867\n",
            "Epoch 2/21: Train: Loss: 0.4620, Acc: 0.8717   Val: Loss: 0.3478, Acc: 0.9008\n",
            "Epoch 3/21: Train: Loss: 0.5798, Acc: 0.8256   Val: Loss: 0.6269, Acc: 0.7913\n",
            "Epoch 4/21: Train: Loss: 0.4836, Acc: 0.8338   Val: Loss: 0.3669, Acc: 0.8938\n",
            "Epoch     5: reducing learning rate of group 0 to 3.0000e-03.\n",
            "Epoch 5/21: Train: Loss: 0.5130, Acc: 0.8489   Val: Loss: 0.7225, Acc: 0.7730\n",
            "Epoch 6/21: Train: Loss: 0.3046, Acc: 0.9216   Val: Loss: 0.3162, Acc: 0.9217\n",
            "Epoch 7/21: Train: Loss: 0.2954, Acc: 0.9410   Val: Loss: 0.3085, Acc: 0.9427\n",
            "Epoch 8/21: Train: Loss: 0.3157, Acc: 0.9413   Val: Loss: 0.3929, Acc: 0.9182\n",
            "Epoch 9/21: Train: Loss: 0.3139, Acc: 0.9359   Val: Loss: 0.3435, Acc: 0.9300\n",
            "Epoch 10/21: Train: Loss: 0.3508, Acc: 0.9185   Val: Loss: 0.3331, Acc: 0.9107\n",
            "Epoch    11: reducing learning rate of group 0 to 9.0000e-04.\n",
            "Epoch 11/21: Train: Loss: 0.3554, Acc: 0.9159   Val: Loss: 0.3025, Acc: 0.9220\n",
            "Epoch 12/21: Train: Loss: 0.2593, Acc: 0.9592   Val: Loss: 0.2444, Acc: 0.9627\n",
            "Epoch 13/21: Train: Loss: 0.2673, Acc: 0.9590   Val: Loss: 0.2875, Acc: 0.9507\n",
            "Epoch 14/21: Train: Loss: 0.2707, Acc: 0.9637   Val: Loss: 0.2696, Acc: 0.9577\n",
            "Epoch 15/21: Train: Loss: 0.2738, Acc: 0.9634   Val: Loss: 0.2855, Acc: 0.9487\n",
            "Epoch    16: reducing learning rate of group 0 to 2.7000e-04.\n",
            "Epoch 16/21: Train: Loss: 0.2850, Acc: 0.9592   Val: Loss: 0.2906, Acc: 0.9547\n",
            "Epoch 17/21: Train: Loss: 0.2684, Acc: 0.9670   Val: Loss: 0.2813, Acc: 0.9537\n",
            "Epoch 18/21: Train: Loss: 0.2700, Acc: 0.9650   Val: Loss: 0.2747, Acc: 0.9647\n",
            "Epoch 19/21: Train: Loss: 0.2679, Acc: 0.9647   Val: Loss: 0.2708, Acc: 0.9647\n",
            "Epoch    20: reducing learning rate of group 0 to 8.1000e-05.\n",
            "Epoch 20/21: Train: Loss: 0.2742, Acc: 0.9694   Val: Loss: 0.2690, Acc: 0.9577\n",
            "Epoch 21/21: Train: Loss: 0.2665, Acc: 0.9699   Val: Loss: 0.2690, Acc: 0.9617\n"
          ],
          "name": "stdout"
        }
      ]
    },
    {
      "cell_type": "code",
      "metadata": {
        "id": "EJMjqJwfPNfk",
        "colab_type": "code",
        "colab": {
          "base_uri": "https://localhost:8080/",
          "height": 476
        },
        "outputId": "ff3456bc-3a6e-4aeb-c36b-a5d0b4eb55d1"
      },
      "source": [
        "model, hist = train_model(model, loss, optimizer, scheduler, num_epochs=22);"
      ],
      "execution_count": 85,
      "outputs": [
        {
          "output_type": "stream",
          "text": [
            "Epoch 0/21: Train: Loss: 0.2674, Acc: 0.9706   Val: Loss: 0.2713, Acc: 0.9627\n",
            "Epoch 1/21: Train: Loss: 0.2696, Acc: 0.9696   Val: Loss: 0.2702, Acc: 0.9567\n",
            "Epoch    24: reducing learning rate of group 0 to 2.4300e-05.\n",
            "Epoch 2/21: Train: Loss: 0.2630, Acc: 0.9694   Val: Loss: 0.2719, Acc: 0.9617\n",
            "Epoch 3/21: Train: Loss: 0.2661, Acc: 0.9709   Val: Loss: 0.2747, Acc: 0.9597\n",
            "Epoch 4/21: Train: Loss: 0.2619, Acc: 0.9722   Val: Loss: 0.2755, Acc: 0.9617\n",
            "Epoch 5/21: Train: Loss: 0.2655, Acc: 0.9683   Val: Loss: 0.2722, Acc: 0.9647\n",
            "Epoch    28: reducing learning rate of group 0 to 7.2900e-06.\n",
            "Epoch 6/21: Train: Loss: 0.2659, Acc: 0.9722   Val: Loss: 0.2760, Acc: 0.9627\n",
            "Epoch 7/21: Train: Loss: 0.2664, Acc: 0.9691   Val: Loss: 0.2708, Acc: 0.9627\n",
            "Epoch 8/21: Train: Loss: 0.2631, Acc: 0.9756   Val: Loss: 0.2733, Acc: 0.9637\n",
            "Epoch 9/21: Train: Loss: 0.2693, Acc: 0.9689   Val: Loss: 0.2749, Acc: 0.9637\n",
            "Epoch    32: reducing learning rate of group 0 to 2.1870e-06.\n",
            "Epoch 10/21: Train: Loss: 0.2642, Acc: 0.9701   Val: Loss: 0.2717, Acc: 0.9627\n",
            "Epoch 11/21: Train: Loss: 0.2634, Acc: 0.9730   Val: Loss: 0.2740, Acc: 0.9627\n",
            "Epoch 12/21: Train: Loss: 0.2654, Acc: 0.9712   Val: Loss: 0.2723, Acc: 0.9627\n",
            "Epoch 13/21: Train: Loss: 0.2665, Acc: 0.9720   Val: Loss: 0.2704, Acc: 0.9657\n",
            "Epoch    36: reducing learning rate of group 0 to 6.5610e-07.\n",
            "Epoch 14/21: Train: Loss: 0.2670, Acc: 0.9738   Val: Loss: 0.2760, Acc: 0.9627\n",
            "Epoch 15/21: Train: Loss: 0.2587, Acc: 0.9719   Val: Loss: 0.2714, Acc: 0.9627\n",
            "Epoch 16/21: Train: Loss: 0.2594, Acc: 0.9738   Val: Loss: 0.2747, Acc: 0.9637\n",
            "Epoch 17/21: Train: Loss: 0.2617, Acc: 0.9709   Val: Loss: 0.2760, Acc: 0.9647\n",
            "Epoch 18/21: Train: Loss: 0.2656, Acc: 0.9738   Val: Loss: 0.2742, Acc: 0.9647\n",
            "Epoch    41: reducing learning rate of group 0 to 1.9683e-07.\n",
            "Epoch 19/21: Train: Loss: 0.2654, Acc: 0.9676   Val: Loss: 0.2722, Acc: 0.9657\n",
            "Epoch 20/21: Train: Loss: 0.2648, Acc: 0.9701   Val: Loss: 0.2728, Acc: 0.9637\n",
            "Epoch 21/21: Train: Loss: 0.2636, Acc: 0.9699   Val: Loss: 0.2771, Acc: 0.9617\n"
          ],
          "name": "stdout"
        }
      ]
    },
    {
      "cell_type": "code",
      "metadata": {
        "id": "StKiDe9RZo5-",
        "colab_type": "code",
        "outputId": "5219d0d1-ebae-4abe-ab19-bd09c15952dc",
        "colab": {
          "base_uri": "https://localhost:8080/",
          "height": 513
        }
      },
      "source": [
        "plt.plot(hist[0][0:10])\n",
        "plt.plot(hist[2][0:10])\n",
        "plt.show()\n",
        "\n",
        "plt.plot(hist[1][0:10])\n",
        "plt.plot(hist[3][0:10])\n",
        "plt.show()\n"
      ],
      "execution_count": 37,
      "outputs": [
        {
          "output_type": "display_data",
          "data": {
            "image/png": "[encoded data removed]",
            "text/plain": [
              "<Figure size 432x288 with 1 Axes>"
            ]
          },
          "metadata": {
            "tags": []
          }
        },
        {
          "output_type": "display_data",
          "data": {
            "image/png": "[encoded data removed]",
            "text/plain": [
              "<Figure size 432x288 with 1 Axes>"
            ]
          },
          "metadata": {
            "tags": []
          }
        }
      ]
    },
    {
      "cell_type": "code",
      "metadata": {
        "id": "Fcvfdqyr_giz",
        "colab_type": "code",
        "colab": {
          "base_uri": "https://localhost:8080/",
          "height": 515
        },
        "outputId": "cb249414-eca0-4e20-d0db-a124506a23bc"
      },
      "source": [
        "plt.plot(hist[0][0:])\n",
        "plt.plot(hist[2][0:])\n",
        "plt.show()\n",
        "\n",
        "plt.plot(hist[1][0:])\n",
        "plt.plot(hist[3][0:])\n",
        "plt.show()\n"
      ],
      "execution_count": 72,
      "outputs": [
        {
          "output_type": "display_data",
          "data": {
            "image/png": "[encoded data removed]",
            "text/plain": [
              "<Figure size 432x288 with 1 Axes>"
            ]
          },
          "metadata": {
            "tags": []
          }
        },
        {
          "output_type": "display_data",
          "data": {
            "image/png": "[encoded data removed]",
            "text/plain": [
              "<Figure size 432x288 with 1 Axes>"
            ]
          },
          "metadata": {
            "tags": []
          }
        }
      ]
    },
    {
      "cell_type": "code",
      "metadata": {
        "id": "A6YJW1x0L2h8",
        "colab_type": "code",
        "colab": {}
      },
      "source": [
        "test_dataset = torchvision.datasets.ImageFolder(os.path.join(DIR,DIR_TEST), val_transforms)\n",
        "\n",
        "test_dataloader = torch.utils.data.DataLoader(\n",
        "    test_dataset, batch_size=117, shuffle=False, num_workers=8)"
      ],
      "execution_count": 0,
      "outputs": []
    },
    {
      "cell_type": "code",
      "metadata": {
        "id": "A966zivtL2ep",
        "colab_type": "code",
        "outputId": "ac575bfa-ddd7-4085-c22f-c4bc6a4e19b7",
        "colab": {
          "base_uri": "https://localhost:8080/",
          "height": 170
        }
      },
      "source": [
        "test_dataset"
      ],
      "execution_count": 16,
      "outputs": [
        {
          "output_type": "execute_result",
          "data": {
            "text/plain": [
              "Dataset ImageFolder\n",
              "    Number of datapoints: 117\n",
              "    Root location: fruits_vegetables/TEST\n",
              "    StandardTransform\n",
              "Transform: Compose(\n",
              "               Resize(size=(224, 224), interpolation=PIL.Image.BILINEAR)\n",
              "               ToTensor()\n",
              "               Normalize(mean=[0.485 0.456 0.406], std=[0.229 0.224 0.225])\n",
              "           )"
            ]
          },
          "metadata": {
            "tags": []
          },
          "execution_count": 16
        }
      ]
    },
    {
      "cell_type": "code",
      "metadata": {
        "id": "11At-ctnL2ch",
        "colab_type": "code",
        "outputId": "2bf73795-f23b-48dd-da92-216933902e17",
        "colab": {
          "base_uri": "https://localhost:8080/",
          "height": 34
        }
      },
      "source": [
        "model.eval()\n",
        "\n",
        "test_predictions = []\n",
        "test_img_paths = []\n",
        "\n",
        "running_loss = 0.\n",
        "running_acc = 0.\n",
        "\n",
        "for inputs, labels in tqdm(test_dataloader):\n",
        "    inputs = inputs.to(device)\n",
        "    labels = labels.to(device)\n",
        "    with torch.set_grad_enabled(False):\n",
        "        preds = model(inputs)\n",
        "        preds_class = preds.argmax(dim=1)\n",
        "        running_acc += (preds_class == labels.data).float().sum().cpu()\n"
      ],
      "execution_count": 86,
      "outputs": [
        {
          "output_type": "stream",
          "text": [
            "100%|██████████| 1/1 [00:01<00:00,  1.79s/it]\n"
          ],
          "name": "stderr"
        }
      ]
    },
    {
      "cell_type": "code",
      "metadata": {
        "id": "vDgrSmy7L2Yy",
        "colab_type": "code",
        "outputId": "860d8870-bd04-4218-b3f9-0941c1ca78e5",
        "colab": {
          "base_uri": "https://localhost:8080/",
          "height": 34
        }
      },
      "source": [
        "running_acc / 117, 117 - running_acc"
      ],
      "execution_count": 87,
      "outputs": [
        {
          "output_type": "execute_result",
          "data": {
            "text/plain": [
              "(tensor(0.8376), tensor(19.))"
            ]
          },
          "metadata": {
            "tags": []
          },
          "execution_count": 87
        }
      ]
    },
    {
      "cell_type": "code",
      "metadata": {
        "id": "y9_UNJXEfrFr",
        "colab_type": "code",
        "outputId": "a08e8642-ceb6-4448-a436-f47a8dc32e8d",
        "colab": {
          "base_uri": "https://localhost:8080/",
          "height": 34
        }
      },
      "source": [
        "running_acc / 117, 117 - running_acc"
      ],
      "execution_count": 0,
      "outputs": [
        {
          "output_type": "execute_result",
          "data": {
            "text/plain": [
              "(tensor(0.7863), tensor(25.))"
            ]
          },
          "metadata": {
            "tags": []
          },
          "execution_count": 26
        }
      ]
    },
    {
      "cell_type": "code",
      "metadata": {
        "id": "UL0zujDAfrIY",
        "colab_type": "code",
        "outputId": "a214710c-141c-4919-d9f9-505cdf15d6a3",
        "colab": {
          "base_uri": "https://localhost:8080/",
          "height": 34
        }
      },
      "source": [
        "(117-9)/117"
      ],
      "execution_count": 0,
      "outputs": [
        {
          "output_type": "execute_result",
          "data": {
            "text/plain": [
              "0.9230769230769231"
            ]
          },
          "metadata": {
            "tags": []
          },
          "execution_count": 25
        }
      ]
    },
    {
      "cell_type": "code",
      "metadata": {
        "id": "5YJ909R2frLR",
        "colab_type": "code",
        "colab": {}
      },
      "source": [
        "for img inputs\n",
        "        show_input(inputs)\n"
      ],
      "execution_count": 0,
      "outputs": []
    },
    {
      "cell_type": "code",
      "metadata": {
        "id": "zXMPNUBsfrOs",
        "colab_type": "code",
        "colab": {}
      },
      "source": [
        "model."
      ],
      "execution_count": 0,
      "outputs": []
    }
  ]
}