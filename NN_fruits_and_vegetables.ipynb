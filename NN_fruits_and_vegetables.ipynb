{
  "nbformat": 4,
  "nbformat_minor": 0,
  "metadata": {
    "colab": {
      "name": "Untitled1.ipynb",
      "provenance": [],
      "authorship_tag": "ABX9TyMMQ2R+N8cxUbkG7dMYco6d",
      "include_colab_link": true
    },
    "kernelspec": {
      "name": "python3",
      "display_name": "Python 3"
    },
    "accelerator": "GPU"
  },
  "cells": [
    {
      "cell_type": "markdown",
      "metadata": {
        "id": "view-in-github",
        "colab_type": "text"
      },
      "source": [
        "<a href=\"https://colab.research.google.com/github/MihailMV/Fruits-and-vegetables/blob/master/NN_fruits_and_vegetables.ipynb\" target=\"_parent\"><img src=\"https://colab.research.google.com/assets/colab-badge.svg\" alt=\"Open In Colab\"/></a>"
      ]
    },
    {
      "cell_type": "code",
      "metadata": {
        "id": "aWkEI_qaGtOE",
        "colab_type": "code",
        "outputId": "468ff2e0-e920-4604-dfc5-dab1cdceb667",
        "colab": {
          "base_uri": "https://localhost:8080/",
          "height": 122
        }
      },
      "source": [
        "from google.colab import drive\n",
        "drive.mount('/content/drive')"
      ],
      "execution_count": 1,
      "outputs": [
        {
          "output_type": "stream",
          "text": [
            "Go to this URL in a browser: https://accounts.google.com/o/oauth2/auth?client_id=947318989803-6bn6qk8qdgf4n4g3pfee6491hc0brc4i.apps.googleusercontent.com&redirect_uri=urn%3aietf%3awg%3aoauth%3a2.0%3aoob&response_type=code&scope=email%20https%3a%2f%2fwww.googleapis.com%2fauth%2fdocs.test%20https%3a%2f%2fwww.googleapis.com%2fauth%2fdrive%20https%3a%2f%2fwww.googleapis.com%2fauth%2fdrive.photos.readonly%20https%3a%2f%2fwww.googleapis.com%2fauth%2fpeopleapi.readonly\n",
            "\n",
            "Enter your authorization code:\n",
            "··········\n",
            "Mounted at /content/drive\n"
          ],
          "name": "stdout"
        }
      ]
    },
    {
      "cell_type": "code",
      "metadata": {
        "id": "SQn7XeegG9u_",
        "colab_type": "code",
        "colab": {}
      },
      "source": [
        "import os\n",
        "import zipfile\n",
        "import shutil\n",
        "import numpy as np\n",
        "from tqdm import tqdm"
      ],
      "execution_count": 0,
      "outputs": []
    },
    {
      "cell_type": "code",
      "metadata": {
        "id": "auVcEjSN4Hn2",
        "colab_type": "code",
        "colab": {}
      },
      "source": [
        "DIR = 'fruits_vegetables'\n",
        "DIR_TRAIN = 'TRAIN'\n",
        "DIR_VAL = 'VAL'\n",
        "DIR_TEST = 'TEST'\n",
        "IMG_SIZE = (224, 224)\n",
        "MEAN = np.array([0.485, 0.456, 0.406])\n",
        "STD = np.array([0.229, 0.224, 0.225])\n",
        "BATCH_SIZE = 50\n",
        "\n",
        "os.environ['KAGGLE_CONFIG_DIR'] = \"/content/drive/My Drive/Colab Notebooks/kaggle/\" "
      ],
      "execution_count": 0,
      "outputs": []
    },
    {
      "cell_type": "code",
      "metadata": {
        "id": "5-MnUJNFGuBa",
        "colab_type": "code",
        "outputId": "0b061e6b-e11d-4129-cf46-82bf326accd1",
        "colab": {
          "base_uri": "https://localhost:8080/",
          "height": 68
        }
      },
      "source": [
        "!kaggle datasets download -d balalexv/fruits-vegetables-photos\n",
        "with zipfile.ZipFile('/content/fruits-vegetables-photos.zip', 'r') as zip_obj:\n",
        "   zip_obj.extractall('/content/')\n",
        "!rm '/content/fruits-vegetables-photos.zip'"
      ],
      "execution_count": 4,
      "outputs": [
        {
          "output_type": "stream",
          "text": [
            "Downloading fruits-vegetables-photos.zip to /content\n",
            "100% 1.79G/1.80G [00:20<00:00, 111MB/s]\n",
            "100% 1.80G/1.80G [00:20<00:00, 94.6MB/s]\n"
          ],
          "name": "stdout"
        }
      ]
    },
    {
      "cell_type": "code",
      "metadata": {
        "id": "7wXQojMFH25a",
        "colab_type": "code",
        "colab": {}
      },
      "source": [
        "os.makedirs(os.path.join(DIR, DIR_VAL), exist_ok=True)\n",
        "for class_name in os.listdir(os.path.join(DIR,DIR_TRAIN)):\n",
        "  os.makedirs(os.path.join(DIR, DIR_VAL, class_name), exist_ok=True)\n",
        "  for i, f in enumerate(os.listdir(os.path.join(DIR,DIR_TRAIN, class_name))):\n",
        "    if (i % 5 == 0):\n",
        "      shutil.move(os.path.join(DIR,DIR_TRAIN, class_name,f), os.path.join(DIR,DIR_VAL,class_name,f))"
      ],
      "execution_count": 0,
      "outputs": []
    },
    {
      "cell_type": "code",
      "metadata": {
        "id": "XABWjg9orrVE",
        "colab_type": "code",
        "colab": {}
      },
      "source": [
        "from torchvision import transforms, models\n",
        "from torchvision.datasets import ImageFolder\n",
        "import torchvision\n",
        "import torch\n",
        "import matplotlib.pyplot as plt"
      ],
      "execution_count": 0,
      "outputs": []
    },
    {
      "cell_type": "code",
      "metadata": {
        "id": "MSPFVsd3sAes",
        "colab_type": "code",
        "colab": {}
      },
      "source": [
        "train_transforms = transforms.Compose([\n",
        "    transforms.Resize(IMG_SIZE),\n",
        "    #transforms.RandomResizedCrop(224),\n",
        "    transforms.RandomHorizontalFlip(),\n",
        "    transforms.RandomVerticalFlip(),\n",
        "    transforms.ToTensor(),\n",
        "    transforms.Normalize(MEAN, STD)\n",
        "])\n",
        "\n",
        "val_transforms = transforms.Compose([\n",
        "    transforms.Resize(IMG_SIZE),\n",
        "    transforms.ToTensor(),\n",
        "    transforms.Normalize(MEAN, STD)\n",
        "])\n",
        "\n",
        "train_dataset = torchvision.datasets.ImageFolder(os.path.join(DIR,DIR_TRAIN), train_transforms)\n",
        "val_dataset = torchvision.datasets.ImageFolder(os.path.join(DIR,DIR_VAL), val_transforms)\n"
      ],
      "execution_count": 0,
      "outputs": []
    },
    {
      "cell_type": "code",
      "metadata": {
        "id": "-811_BpysAhd",
        "colab_type": "code",
        "colab": {}
      },
      "source": [
        "train_dataloader = torch.utils.data.DataLoader(\n",
        "    train_dataset, batch_size=BATCH_SIZE, shuffle=True, num_workers=8)\n",
        "val_dataloader = torch.utils.data.DataLoader(\n",
        "    val_dataset, batch_size=BATCH_SIZE, shuffle=False, num_workers=8)\n"
      ],
      "execution_count": 0,
      "outputs": []
    },
    {
      "cell_type": "code",
      "metadata": {
        "id": "fsTnUalIsAkz",
        "colab_type": "code",
        "colab": {}
      },
      "source": [
        "def show_input(input_tensor, title=''):\n",
        "    image = input_tensor.permute(1, 2, 0).numpy()\n",
        "    image = STD * image + MEAN\n",
        "    plt.imshow(image.clip(0, 1))\n",
        "    plt.title(title)\n",
        "    plt.show()\n",
        "    plt.pause(0.001)\n"
      ],
      "execution_count": 0,
      "outputs": []
    },
    {
      "cell_type": "code",
      "metadata": {
        "id": "q8bkdIhKKcET",
        "colab_type": "code",
        "colab": {}
      },
      "source": [
        "def train_model(model, loss, optimizer, scheduler, num_epochs):\n",
        "  hist_loss_train = []\n",
        "  hist_acc_train = []\n",
        "  hist_loss_val = []\n",
        "  hist_acc_val = []\n",
        "  for epoch in range(num_epochs):\n",
        "    # Train\n",
        "    running_loss = 0.\n",
        "    running_acc = 0.\n",
        "    scheduler.step()\n",
        "    model.train()\n",
        "    for inputs, labels in tqdm(train_dataloader):\n",
        "      inputs = inputs.to(device)\n",
        "      labels = labels.to(device)\n",
        "      optimizer.zero_grad()\n",
        "      with torch.set_grad_enabled(True):\n",
        "        preds = model(inputs)\n",
        "        loss_value = loss(preds, labels)\n",
        "        preds_class = preds.argmax(dim=1)\n",
        "        loss_value.backward()\n",
        "        optimizer.step()\n",
        "        running_loss += loss_value.item()\n",
        "        running_acc += (preds_class == labels.data).float().mean()\n",
        "        loss_train = running_loss / len(train_dataloader)\n",
        "        acc_train = running_acc / len(train_dataloader)\n",
        "        \n",
        "    # Val\n",
        "    running_loss = 0.\n",
        "    running_acc = 0.\n",
        "    model.eval()\n",
        "    for inputs, labels in val_dataloader:\n",
        "      inputs = inputs.to(device)\n",
        "      labels = labels.to(device)\n",
        "      with torch.set_grad_enabled(False):\n",
        "        preds = model(inputs)\n",
        "        loss_value = loss(preds, labels)\n",
        "        preds_class = preds.argmax(dim=1)\n",
        "        running_loss += loss_value.item()\n",
        "        running_acc += (preds_class == labels.data).float().mean()\n",
        "        loss_val = running_loss / len(val_dataloader)\n",
        "        acc_val = running_acc / len(val_dataloader)\n",
        "    \n",
        "    print(f'Epoch {epoch}/{num_epochs - 1}: Train: Loss: {loss_train:.4f}, Acc: {acc_train:.4f}   Val: Loss: {loss_val:.4f}, Acc: {acc_val:.4f}', flush=True)\n",
        "    hist_loss_train.append(loss_train)\n",
        "    hist_acc_train.append(acc_train.item())\n",
        "    hist_loss_val.append(loss_val)\n",
        "    hist_acc_val.append(acc_val.item())\n",
        "\n",
        "  return model, [hist_loss_train,hist_acc_train,hist_loss_val,hist_acc_val]"
      ],
      "execution_count": 0,
      "outputs": []
    },
    {
      "cell_type": "code",
      "metadata": {
        "id": "7S6wWUgJ9mC6",
        "colab_type": "code",
        "colab": {}
      },
      "source": [
        "model = models.resnet50(pretrained=True)\n",
        "\n",
        "for param in model.parameters():\n",
        "    param.requires_grad = False\n",
        "\n",
        "model.fc = torch.nn.Linear(model.fc.in_features, len(train_dataset.classes))\n",
        "\n",
        "device = torch.device(\"cuda:0\" if torch.cuda.is_available() else \"cpu\")\n",
        "model = model.to(device)\n",
        "\n",
        "loss = torch.nn.CrossEntropyLoss()\n",
        "optimizer = torch.optim.Adam(model.parameters(), lr=1.0e-3)\n",
        "\n",
        "scheduler = torch.optim.lr_scheduler.StepLR(optimizer, step_size=7, gamma=0.1)"
      ],
      "execution_count": 0,
      "outputs": []
    },
    {
      "cell_type": "code",
      "metadata": {
        "id": "fJmD4_A29mAb",
        "colab_type": "code",
        "colab": {
          "base_uri": "https://localhost:8080/",
          "height": 1000
        },
        "outputId": "7982edd3-7d9d-428a-b5f0-7c328e1ab4af"
      },
      "source": [
        "model, hist = train_model(model, loss, optimizer, scheduler, num_epochs=30);"
      ],
      "execution_count": 28,
      "outputs": [
        {
          "output_type": "stream",
          "text": [
            "/usr/local/lib/python3.6/dist-packages/torch/optim/lr_scheduler.py:100: UserWarning: Detected call of `lr_scheduler.step()` before `optimizer.step()`. In PyTorch 1.1.0 and later, you should call them in the opposite order: `optimizer.step()` before `lr_scheduler.step()`.  Failure to do this will result in PyTorch skipping the first value of the learning rate schedule.See more details at https://pytorch.org/docs/stable/optim.html#how-to-adjust-learning-rate\n",
            "  \"https://pytorch.org/docs/stable/optim.html#how-to-adjust-learning-rate\", UserWarning)\n",
            "100%|██████████| 77/77 [00:35<00:00,  3.72it/s]\n"
          ],
          "name": "stderr"
        },
        {
          "output_type": "stream",
          "text": [
            "Epoch 0/29: Train: Loss: 1.2069, Acc: 0.7138   Val: Loss: 0.4850, Acc: 0.9297\n"
          ],
          "name": "stdout"
        },
        {
          "output_type": "stream",
          "text": [
            "100%|██████████| 77/77 [00:35<00:00,  3.92it/s]\n"
          ],
          "name": "stderr"
        },
        {
          "output_type": "stream",
          "text": [
            "Epoch 1/29: Train: Loss: 0.4060, Acc: 0.9235   Val: Loss: 0.2895, Acc: 0.9347\n"
          ],
          "name": "stdout"
        },
        {
          "output_type": "stream",
          "text": [
            "100%|██████████| 77/77 [00:35<00:00,  2.17it/s]\n"
          ],
          "name": "stderr"
        },
        {
          "output_type": "stream",
          "text": [
            "Epoch 2/29: Train: Loss: 0.2655, Acc: 0.9457   Val: Loss: 0.2265, Acc: 0.9477\n"
          ],
          "name": "stdout"
        },
        {
          "output_type": "stream",
          "text": [
            "100%|██████████| 77/77 [00:35<00:00,  2.19it/s]\n"
          ],
          "name": "stderr"
        },
        {
          "output_type": "stream",
          "text": [
            "Epoch 3/29: Train: Loss: 0.2006, Acc: 0.9582   Val: Loss: 0.1939, Acc: 0.9517\n"
          ],
          "name": "stdout"
        },
        {
          "output_type": "stream",
          "text": [
            "100%|██████████| 77/77 [00:35<00:00,  2.18it/s]\n"
          ],
          "name": "stderr"
        },
        {
          "output_type": "stream",
          "text": [
            "Epoch 4/29: Train: Loss: 0.1638, Acc: 0.9616   Val: Loss: 0.1588, Acc: 0.9597\n"
          ],
          "name": "stdout"
        },
        {
          "output_type": "stream",
          "text": [
            "100%|██████████| 77/77 [00:35<00:00,  2.20it/s]\n"
          ],
          "name": "stderr"
        },
        {
          "output_type": "stream",
          "text": [
            "Epoch 5/29: Train: Loss: 0.1460, Acc: 0.9655   Val: Loss: 0.1490, Acc: 0.9537\n"
          ],
          "name": "stdout"
        },
        {
          "output_type": "stream",
          "text": [
            "100%|██████████| 77/77 [00:35<00:00,  3.47it/s]\n"
          ],
          "name": "stderr"
        },
        {
          "output_type": "stream",
          "text": [
            "Epoch 6/29: Train: Loss: 0.1243, Acc: 0.9733   Val: Loss: 0.1353, Acc: 0.9607\n"
          ],
          "name": "stdout"
        },
        {
          "output_type": "stream",
          "text": [
            "100%|██████████| 77/77 [00:35<00:00,  3.45it/s]\n"
          ],
          "name": "stderr"
        },
        {
          "output_type": "stream",
          "text": [
            "Epoch 7/29: Train: Loss: 0.1221, Acc: 0.9743   Val: Loss: 0.1356, Acc: 0.9617\n"
          ],
          "name": "stdout"
        },
        {
          "output_type": "stream",
          "text": [
            "100%|██████████| 77/77 [00:35<00:00,  2.16it/s]\n"
          ],
          "name": "stderr"
        },
        {
          "output_type": "stream",
          "text": [
            "Epoch 8/29: Train: Loss: 0.1231, Acc: 0.9753   Val: Loss: 0.1369, Acc: 0.9617\n"
          ],
          "name": "stdout"
        },
        {
          "output_type": "stream",
          "text": [
            "100%|██████████| 77/77 [00:35<00:00,  2.16it/s]\n"
          ],
          "name": "stderr"
        },
        {
          "output_type": "stream",
          "text": [
            "Epoch 9/29: Train: Loss: 0.1163, Acc: 0.9764   Val: Loss: 0.1306, Acc: 0.9617\n"
          ],
          "name": "stdout"
        },
        {
          "output_type": "stream",
          "text": [
            "100%|██████████| 77/77 [00:35<00:00,  2.18it/s]\n"
          ],
          "name": "stderr"
        },
        {
          "output_type": "stream",
          "text": [
            "Epoch 10/29: Train: Loss: 0.1209, Acc: 0.9745   Val: Loss: 0.1368, Acc: 0.9587\n"
          ],
          "name": "stdout"
        },
        {
          "output_type": "stream",
          "text": [
            "100%|██████████| 77/77 [00:35<00:00,  4.05it/s]\n"
          ],
          "name": "stderr"
        },
        {
          "output_type": "stream",
          "text": [
            "Epoch 11/29: Train: Loss: 0.1134, Acc: 0.9756   Val: Loss: 0.1296, Acc: 0.9617\n"
          ],
          "name": "stdout"
        },
        {
          "output_type": "stream",
          "text": [
            "100%|██████████| 77/77 [00:35<00:00,  3.63it/s]\n"
          ],
          "name": "stderr"
        },
        {
          "output_type": "stream",
          "text": [
            "Epoch 12/29: Train: Loss: 0.1134, Acc: 0.9774   Val: Loss: 0.1301, Acc: 0.9657\n"
          ],
          "name": "stdout"
        },
        {
          "output_type": "stream",
          "text": [
            "100%|██████████| 77/77 [00:35<00:00,  3.68it/s]\n"
          ],
          "name": "stderr"
        },
        {
          "output_type": "stream",
          "text": [
            "Epoch 13/29: Train: Loss: 0.1098, Acc: 0.9787   Val: Loss: 0.1266, Acc: 0.9647\n"
          ],
          "name": "stdout"
        },
        {
          "output_type": "stream",
          "text": [
            "100%|██████████| 77/77 [00:35<00:00,  2.16it/s]\n"
          ],
          "name": "stderr"
        },
        {
          "output_type": "stream",
          "text": [
            "Epoch 14/29: Train: Loss: 0.1140, Acc: 0.9777   Val: Loss: 0.1295, Acc: 0.9647\n"
          ],
          "name": "stdout"
        },
        {
          "output_type": "stream",
          "text": [
            "100%|██████████| 77/77 [00:35<00:00,  3.56it/s]\n"
          ],
          "name": "stderr"
        },
        {
          "output_type": "stream",
          "text": [
            "Epoch 15/29: Train: Loss: 0.1076, Acc: 0.9800   Val: Loss: 0.1296, Acc: 0.9647\n"
          ],
          "name": "stdout"
        },
        {
          "output_type": "stream",
          "text": [
            "100%|██████████| 77/77 [00:35<00:00,  2.15it/s]\n"
          ],
          "name": "stderr"
        },
        {
          "output_type": "stream",
          "text": [
            "Epoch 16/29: Train: Loss: 0.1075, Acc: 0.9792   Val: Loss: 0.1295, Acc: 0.9637\n"
          ],
          "name": "stdout"
        },
        {
          "output_type": "stream",
          "text": [
            "100%|██████████| 77/77 [00:35<00:00,  2.16it/s]\n"
          ],
          "name": "stderr"
        },
        {
          "output_type": "stream",
          "text": [
            "Epoch 17/29: Train: Loss: 0.1089, Acc: 0.9774   Val: Loss: 0.1283, Acc: 0.9607\n"
          ],
          "name": "stdout"
        },
        {
          "output_type": "stream",
          "text": [
            "100%|██████████| 77/77 [00:35<00:00,  2.16it/s]\n"
          ],
          "name": "stderr"
        },
        {
          "output_type": "stream",
          "text": [
            "Epoch 18/29: Train: Loss: 0.1125, Acc: 0.9782   Val: Loss: 0.1264, Acc: 0.9637\n"
          ],
          "name": "stdout"
        },
        {
          "output_type": "stream",
          "text": [
            "100%|██████████| 77/77 [00:35<00:00,  2.16it/s]\n"
          ],
          "name": "stderr"
        },
        {
          "output_type": "stream",
          "text": [
            "Epoch 19/29: Train: Loss: 0.1068, Acc: 0.9816   Val: Loss: 0.1263, Acc: 0.9637\n"
          ],
          "name": "stdout"
        },
        {
          "output_type": "stream",
          "text": [
            "100%|██████████| 77/77 [00:35<00:00,  2.15it/s]\n"
          ],
          "name": "stderr"
        },
        {
          "output_type": "stream",
          "text": [
            "Epoch 20/29: Train: Loss: 0.1091, Acc: 0.9787   Val: Loss: 0.1276, Acc: 0.9637\n"
          ],
          "name": "stdout"
        },
        {
          "output_type": "stream",
          "text": [
            "100%|██████████| 77/77 [00:35<00:00,  3.78it/s]\n"
          ],
          "name": "stderr"
        },
        {
          "output_type": "stream",
          "text": [
            "Epoch 21/29: Train: Loss: 0.1132, Acc: 0.9761   Val: Loss: 0.1278, Acc: 0.9597\n"
          ],
          "name": "stdout"
        },
        {
          "output_type": "stream",
          "text": [
            "100%|██████████| 77/77 [00:36<00:00,  2.14it/s]\n"
          ],
          "name": "stderr"
        },
        {
          "output_type": "stream",
          "text": [
            "Epoch 22/29: Train: Loss: 0.1070, Acc: 0.9800   Val: Loss: 0.1281, Acc: 0.9637\n"
          ],
          "name": "stdout"
        },
        {
          "output_type": "stream",
          "text": [
            "100%|██████████| 77/77 [00:35<00:00,  4.01it/s]\n"
          ],
          "name": "stderr"
        },
        {
          "output_type": "stream",
          "text": [
            "Epoch 23/29: Train: Loss: 0.1119, Acc: 0.9796   Val: Loss: 0.1274, Acc: 0.9617\n"
          ],
          "name": "stdout"
        },
        {
          "output_type": "stream",
          "text": [
            "100%|██████████| 77/77 [00:35<00:00,  3.73it/s]\n"
          ],
          "name": "stderr"
        },
        {
          "output_type": "stream",
          "text": [
            "Epoch 24/29: Train: Loss: 0.1072, Acc: 0.9826   Val: Loss: 0.1278, Acc: 0.9627\n"
          ],
          "name": "stdout"
        },
        {
          "output_type": "stream",
          "text": [
            "100%|██████████| 77/77 [00:35<00:00,  2.15it/s]\n"
          ],
          "name": "stderr"
        },
        {
          "output_type": "stream",
          "text": [
            "Epoch 25/29: Train: Loss: 0.1100, Acc: 0.9803   Val: Loss: 0.1273, Acc: 0.9607\n"
          ],
          "name": "stdout"
        },
        {
          "output_type": "stream",
          "text": [
            "100%|██████████| 77/77 [00:35<00:00,  2.16it/s]\n"
          ],
          "name": "stderr"
        },
        {
          "output_type": "stream",
          "text": [
            "Epoch 26/29: Train: Loss: 0.1125, Acc: 0.9766   Val: Loss: 0.1282, Acc: 0.9597\n"
          ],
          "name": "stdout"
        },
        {
          "output_type": "stream",
          "text": [
            "100%|██████████| 77/77 [00:35<00:00,  2.15it/s]\n"
          ],
          "name": "stderr"
        },
        {
          "output_type": "stream",
          "text": [
            "Epoch 27/29: Train: Loss: 0.1098, Acc: 0.9800   Val: Loss: 0.1268, Acc: 0.9647\n"
          ],
          "name": "stdout"
        },
        {
          "output_type": "stream",
          "text": [
            "100%|██████████| 77/77 [00:35<00:00,  3.60it/s]\n"
          ],
          "name": "stderr"
        },
        {
          "output_type": "stream",
          "text": [
            "Epoch 28/29: Train: Loss: 0.1098, Acc: 0.9774   Val: Loss: 0.1274, Acc: 0.9637\n"
          ],
          "name": "stdout"
        },
        {
          "output_type": "stream",
          "text": [
            "100%|██████████| 77/77 [00:35<00:00,  2.15it/s]\n"
          ],
          "name": "stderr"
        },
        {
          "output_type": "stream",
          "text": [
            "Epoch 29/29: Train: Loss: 0.1100, Acc: 0.9777   Val: Loss: 0.1293, Acc: 0.9627\n"
          ],
          "name": "stdout"
        }
      ]
    },
    {
      "cell_type": "code",
      "metadata": {
        "id": "StKiDe9RZo5-",
        "colab_type": "code",
        "colab": {
          "base_uri": "https://localhost:8080/",
          "height": 513
        },
        "outputId": "152f8120-9287-4fc2-ba94-aae4242c027d"
      },
      "source": [
        "plt.plot(hist[0])\n",
        "plt.plot(hist[2])\n",
        "plt.show()\n",
        "\n",
        "plt.plot(hist[1])\n",
        "plt.plot(hist[3])\n",
        "plt.show()\n"
      ],
      "execution_count": 29,
      "outputs": [
        {
          "output_type": "display_data",
          "data": {
            "image/png": "[encoded data removed]",
            "text/plain": [
              "<Figure size 432x288 with 1 Axes>"
            ]
          },
          "metadata": {
            "tags": []
          }
        },
        {
          "output_type": "display_data",
          "data": {
            "image/png": "[encoded data removed]",
            "text/plain": [
              "<Figure size 432x288 with 1 Axes>"
            ]
          },
          "metadata": {
            "tags": []
          }
        }
      ]
    },
    {
      "cell_type": "code",
      "metadata": {
        "id": "A6YJW1x0L2h8",
        "colab_type": "code",
        "colab": {}
      },
      "source": [
        "test_dataset = torchvision.datasets.ImageFolder(os.path.join(DIR,DIR_TEST), val_transforms)\n",
        "\n",
        "test_dataloader = torch.utils.data.DataLoader(\n",
        "    test_dataset, batch_size=BATCH_SIZE, shuffle=False, num_workers=8)"
      ],
      "execution_count": 0,
      "outputs": []
    },
    {
      "cell_type": "code",
      "metadata": {
        "id": "A966zivtL2ep",
        "colab_type": "code",
        "colab": {
          "base_uri": "https://localhost:8080/",
          "height": 170
        },
        "outputId": "4875e23d-85e4-46a0-c560-d6353643c198"
      },
      "source": [
        "test_dataset"
      ],
      "execution_count": 31,
      "outputs": [
        {
          "output_type": "execute_result",
          "data": {
            "text/plain": [
              "Dataset ImageFolder\n",
              "    Number of datapoints: 117\n",
              "    Root location: fruits_vegetables/TEST\n",
              "    StandardTransform\n",
              "Transform: Compose(\n",
              "               Resize(size=(224, 224), interpolation=PIL.Image.BILINEAR)\n",
              "               ToTensor()\n",
              "               Normalize(mean=[0.485 0.456 0.406], std=[0.229 0.224 0.225])\n",
              "           )"
            ]
          },
          "metadata": {
            "tags": []
          },
          "execution_count": 31
        }
      ]
    },
    {
      "cell_type": "code",
      "metadata": {
        "id": "11At-ctnL2ch",
        "colab_type": "code",
        "colab": {
          "base_uri": "https://localhost:8080/",
          "height": 34
        },
        "outputId": "95886f93-76b7-4671-f084-54539cba329a"
      },
      "source": [
        "model.eval()\n",
        "\n",
        "test_predictions = []\n",
        "test_img_paths = []\n",
        "\n",
        "running_loss = 0.\n",
        "running_acc = 0.\n",
        "\n",
        "for inputs, labels in tqdm(test_dataloader):\n",
        "    inputs = inputs.to(device)\n",
        "    labels = labels.to(device)\n",
        "    with torch.set_grad_enabled(False):\n",
        "        preds = model(inputs)\n",
        "        preds_class = preds.argmax(dim=1)\n",
        "        running_acc += (preds_class == labels.data).float().sum().cpu()\n"
      ],
      "execution_count": 32,
      "outputs": [
        {
          "output_type": "stream",
          "text": [
            "100%|██████████| 3/3 [00:01<00:00,  1.02it/s]\n"
          ],
          "name": "stderr"
        }
      ]
    },
    {
      "cell_type": "code",
      "metadata": {
        "id": "vDgrSmy7L2Yy",
        "colab_type": "code",
        "colab": {
          "base_uri": "https://localhost:8080/",
          "height": 34
        },
        "outputId": "e47af976-2508-4637-f59b-39775c3de645"
      },
      "source": [
        "running_acc / 117, 117 - running_acc"
      ],
      "execution_count": 33,
      "outputs": [
        {
          "output_type": "execute_result",
          "data": {
            "text/plain": [
              "(tensor(0.8034), tensor(23.))"
            ]
          },
          "metadata": {
            "tags": []
          },
          "execution_count": 33
        }
      ]
    },
    {
      "cell_type": "code",
      "metadata": {
        "id": "y9_UNJXEfrFr",
        "colab_type": "code",
        "colab": {
          "base_uri": "https://localhost:8080/",
          "height": 34
        },
        "outputId": "a08e8642-ceb6-4448-a436-f47a8dc32e8d"
      },
      "source": [
        "running_acc / 117, 117 - running_acc"
      ],
      "execution_count": 26,
      "outputs": [
        {
          "output_type": "execute_result",
          "data": {
            "text/plain": [
              "(tensor(0.7863), tensor(25.))"
            ]
          },
          "metadata": {
            "tags": []
          },
          "execution_count": 26
        }
      ]
    },
    {
      "cell_type": "code",
      "metadata": {
        "id": "UL0zujDAfrIY",
        "colab_type": "code",
        "colab": {
          "base_uri": "https://localhost:8080/",
          "height": 34
        },
        "outputId": "a214710c-141c-4919-d9f9-505cdf15d6a3"
      },
      "source": [
        "(117-9)/117"
      ],
      "execution_count": 25,
      "outputs": [
        {
          "output_type": "execute_result",
          "data": {
            "text/plain": [
              "0.9230769230769231"
            ]
          },
          "metadata": {
            "tags": []
          },
          "execution_count": 25
        }
      ]
    },
    {
      "cell_type": "code",
      "metadata": {
        "id": "5YJ909R2frLR",
        "colab_type": "code",
        "colab": {}
      },
      "source": [
        ""
      ],
      "execution_count": 0,
      "outputs": []
    },
    {
      "cell_type": "code",
      "metadata": {
        "id": "zXMPNUBsfrOs",
        "colab_type": "code",
        "colab": {}
      },
      "source": [
        ""
      ],
      "execution_count": 0,
      "outputs": []
    }
  ]
}